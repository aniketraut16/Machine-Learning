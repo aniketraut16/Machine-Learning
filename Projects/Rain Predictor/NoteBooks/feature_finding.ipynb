{
 "cells": [
  {
   "cell_type": "code",
   "execution_count": 25,
   "id": "ba29864d-267e-439e-b36d-3ee20363587e",
   "metadata": {},
   "outputs": [
    {
     "name": "stdout",
     "output_type": "stream",
     "text": [
      "rainfall                  1.000000\n",
      "cloud                     0.625766\n",
      "humidity                  0.489623\n",
      "windspeed                 0.154488\n",
      "dewpoint                  0.139916\n",
      "day                       0.010339\n",
      "mintemp                  -0.007697\n",
      "         winddirection   -0.013214\n",
      "temparature              -0.037360\n",
      "pressure                 -0.089275\n",
      "maxtemp                  -0.101003\n",
      "sunshine                 -0.552519\n",
      "Name: rainfall, dtype: float64\n"
     ]
    }
   ],
   "source": [
    "import pandas as pd\n",
    "\n",
    "# Load the dataset\n",
    "data = pd.read_csv('../Data/dataset1.csv')\n",
    "\n",
    "# Convert 'Yes' to 1 and 'No' to 0 in the 'Rain' column\n",
    "data['rainfall'] = data['rainfall'].map({'yes': 1, 'no': 0})\n",
    "\n",
    "# Save the modified dataset to a new CSV file\n",
    "data.to_csv('rainfall.csv', index=False)\n",
    "\n",
    "\n",
    "\n",
    "# Compute correlation matrix\n",
    "correlation_matrix = data.corr()\n",
    "\n",
    "# Get the correlation of features with the target variable 'Outcome'\n",
    "correlation_with_target = correlation_matrix['rainfall'].sort_values(ascending=False)\n",
    "\n",
    "print(correlation_with_target)"
   ]
  },
  {
   "cell_type": "code",
   "execution_count": 23,
   "id": "f71b8a9c-1158-4c39-ae57-448b169ef812",
   "metadata": {},
   "outputs": [
    {
     "name": "stdout",
     "output_type": "stream",
     "text": [
      "<class 'pandas.core.frame.DataFrame'>\n",
      "RangeIndex: 366 entries, 0 to 365\n",
      "Data columns (total 10 columns):\n",
      " #   Column       Non-Null Count  Dtype  \n",
      "---  ------       --------------  -----  \n",
      " 0   day          366 non-null    int64  \n",
      " 1   pressure     366 non-null    float64\n",
      " 2   maxtemp      366 non-null    float64\n",
      " 3   temparature  366 non-null    float64\n",
      " 4   mintemp      366 non-null    float64\n",
      " 5   dewpoint     366 non-null    float64\n",
      " 6   humidity     366 non-null    int64  \n",
      " 7   cloud        366 non-null    int64  \n",
      " 8   rainfall     366 non-null    int64  \n",
      " 9   sunshine     366 non-null    float64\n",
      "dtypes: float64(6), int64(4)\n",
      "memory usage: 28.7 KB\n"
     ]
    }
   ],
   "source": [
    "data.info()  "
   ]
  },
  {
   "cell_type": "code",
   "execution_count": 24,
   "id": "7e0a9200-cf03-44d7-bbf3-1e56c4651baf",
   "metadata": {},
   "outputs": [
    {
     "name": "stdout",
     "output_type": "stream",
     "text": [
      "       Feature  Importance\n",
      "7       cloud     0.258792\n",
      "8     sunshine    0.201117\n",
      "6    humidity     0.110951\n",
      "0          day    0.079872\n",
      "5     dewpoint    0.077559\n",
      "4      mintemp    0.069961\n",
      "3  temparature    0.068663\n",
      "2      maxtemp    0.068009\n",
      "1    pressure     0.065075\n"
     ]
    }
   ],
   "source": [
    "from sklearn.ensemble import RandomForestClassifier\n",
    "\n",
    "# Prepare data\n",
    "X = data.drop('rainfall', axis=1)\n",
    "y = data['rainfall']\n",
    "\n",
    "# Train a simple model\n",
    "model = RandomForestClassifier()\n",
    "model.fit(X, y)\n",
    "\n",
    "# Get feature importances\n",
    "importances = model.feature_importances_\n",
    "feature_names = X.columns\n",
    "feature_importances = pd.DataFrame({'Feature': feature_names, 'Importance': importances}).sort_values(by='Importance', ascending=False)\n",
    "\n",
    "print(feature_importances)\n"
   ]
  },
  {
   "cell_type": "code",
   "execution_count": null,
   "id": "1f3d9870-f2ec-4e5d-a7ca-b472ba5baf42",
   "metadata": {},
   "outputs": [],
   "source": []
  }
 ],
 "metadata": {
  "kernelspec": {
   "display_name": "Python 3 (ipykernel)",
   "language": "python",
   "name": "python3"
  },
  "language_info": {
   "codemirror_mode": {
    "name": "ipython",
    "version": 3
   },
   "file_extension": ".py",
   "mimetype": "text/x-python",
   "name": "python",
   "nbconvert_exporter": "python",
   "pygments_lexer": "ipython3",
   "version": "3.11.7"
  }
 },
 "nbformat": 4,
 "nbformat_minor": 5
}
